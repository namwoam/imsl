{
 "cells": [
  {
   "cell_type": "markdown",
   "metadata": {},
   "source": [
    "# 練習時間 - 咒術點點名"
   ]
  },
  {
   "cell_type": "code",
   "execution_count": 10,
   "metadata": {},
   "outputs": [
    {
     "name": "stdout",
     "output_type": "stream",
     "text": [
      "虎杖悠仁 術式：比較壯的路人\n",
      "伏黑惠 術式：十種影法術\n",
      "釘崎野薔薇 術式：芻靈咒法\n"
     ]
    }
   ],
   "source": [
    "print('虎杖悠仁 術式：比較壯的路人')\n",
    "print('伏黑惠 術式：十種影法術')\n",
    "print('釘崎野薔薇 術式：芻靈咒法')"
   ]
  },
  {
   "cell_type": "markdown",
   "metadata": {},
   "source": [
    "# 派森也有不義遊戲\n"
   ]
  },
  {
   "cell_type": "code",
   "execution_count": 11,
   "metadata": {},
   "outputs": [
    {
     "name": "stdout",
     "output_type": "stream",
     "text": [
      "東堂拿到了： 遊雲\n"
     ]
    }
   ],
   "source": [
    "river_item = '遊雲'\n",
    "hand_item = '虎杖'\n",
    "temp = river_item\n",
    "river_item = hand_item\n",
    "hand_item = temp\n",
    "print(\"東堂拿到了：\", hand_item)"
   ]
  },
  {
   "cell_type": "markdown",
   "metadata": {},
   "source": [
    "# 公佈咒術資訊！"
   ]
  },
  {
   "cell_type": "code",
   "execution_count": 12,
   "metadata": {},
   "outputs": [
    {
     "name": "stdout",
     "output_type": "stream",
     "text": [
      "<class 'int'> <class 'str'> <class 'int'> <class 'str'> <class 'float'>\n"
     ]
    }
   ],
   "source": [
    "weird_1 = 3_00\n",
    "weird_2 = '300'\n",
    "weird_3 = int(weird_2)\n",
    "weird_4 = str(bool(300))\n",
    "weird_5 = 1e-5\n",
    "\n",
    "print(type(weird_1), type(weird_2), type(\n",
    "    weird_3), type(weird_4), type(weird_5))"
   ]
  },
  {
   "cell_type": "markdown",
   "metadata": {},
   "source": [
    "# 十劃咒法"
   ]
  },
  {
   "cell_type": "code",
   "execution_count": 18,
   "metadata": {},
   "outputs": [
    {
     "name": "stdout",
     "output_type": "stream",
     "text": [
      "七海攻擊弱點能造成 120.0 的傷害\n"
     ]
    }
   ],
   "source": [
    "original_damage = 100\n",
    "weekness_damage = 100*1.2\n",
    "print('七海攻擊弱點能造成', weekness_damage, '的傷害')"
   ]
  },
  {
   "cell_type": "markdown",
   "metadata": {},
   "source": [
    "# 咒力計算機"
   ]
  },
  {
   "cell_type": "code",
   "execution_count": 19,
   "metadata": {},
   "outputs": [
    {
     "name": "stdout",
     "output_type": "stream",
     "text": [
      "你可以使用 8 次術式，會剩下 20 咒力\n"
     ]
    }
   ],
   "source": [
    "usage = 60\n",
    "capacity = 500\n",
    "use_time = capacity // usage\n",
    "remain = capacity % usage\n",
    "print('你可以使用', use_time, '次術式，會剩下', remain, '咒力')"
   ]
  },
  {
   "cell_type": "markdown",
   "metadata": {},
   "source": [
    "# 你要吃什麼飯糰"
   ]
  },
  {
   "cell_type": "code",
   "execution_count": 20,
   "metadata": {},
   "outputs": [
    {
     "name": "stdout",
     "output_type": "stream",
     "text": [
      "鮭魚鮭魚鮭魚柴魚柴魚\n"
     ]
    }
   ],
   "source": [
    "a = 3\n",
    "b = 2\n",
    "yes_rice_ball = '鮭魚'\n",
    "no_rice_ball = '柴魚'\n",
    "output = yes_rice_ball*a + no_rice_ball*b\n",
    "print(output)"
   ]
  },
  {
   "cell_type": "markdown",
   "metadata": {},
   "source": [
    "# 你有比五條悟強嗎？！"
   ]
  },
  {
   "cell_type": "code",
   "execution_count": 21,
   "metadata": {},
   "outputs": [
    {
     "name": "stdout",
     "output_type": "stream",
     "text": [
      "你有比五條悟強嗎？ True\n"
     ]
    }
   ],
   "source": [
    "gojo_power = 100\n",
    "sukuna_power = 100\n",
    "your_power = 1000\n",
    "print('你有比五條悟強嗎？', your_power > gojo_power)"
   ]
  },
  {
   "cell_type": "markdown",
   "metadata": {},
   "source": [
    "# 無下限術式好難用！"
   ]
  },
  {
   "cell_type": "code",
   "execution_count": 24,
   "metadata": {},
   "outputs": [
    {
     "name": "stdout",
     "output_type": "stream",
     "text": [
      "你可以使出無下限術式嗎？ True\n"
     ]
    }
   ],
   "source": [
    "have_limitless = True\n",
    "have_6eyes = True\n",
    "math_good = True\n",
    "can_use_limitless = have_limitless and have_6eyes and math_good\n",
    "print('你可以使出無下限術式嗎？', can_use_limitless)"
   ]
  },
  {
   "cell_type": "markdown",
   "metadata": {},
   "source": [
    "# 咒術師能力檢定"
   ]
  },
  {
   "cell_type": "code",
   "execution_count": 22,
   "metadata": {},
   "outputs": [
    {
     "name": "stdout",
     "output_type": "stream",
     "text": [
      "你是二級咒術師！\n"
     ]
    }
   ],
   "source": [
    "sorcerers_power = 750\n",
    "if sorcerers_power > 1000:\n",
    "    print('你是特級咒術師！')\n",
    "elif sorcerers_power > 800:\n",
    "    print('你是一級咒術師！')\n",
    "elif sorcerers_power > 600:\n",
    "    print('你是二級咒術師！')\n",
    "elif sorcerers_power > 400:\n",
    "    print('你是三級咒術師！')\n",
    "else:\n",
    "    print('你是四級咒術師！')"
   ]
  },
  {
   "cell_type": "markdown",
   "metadata": {},
   "source": [
    "# 純愛戰士"
   ]
  },
  {
   "cell_type": "code",
   "execution_count": 23,
   "metadata": {},
   "outputs": [
    {
     "name": "stdout",
     "output_type": "stream",
     "text": [
      "術式使用時間還剩下： 2.0 分 12.0 秒\n"
     ]
    }
   ],
   "source": [
    "raw_input = input()\n",
    "percentage = int(raw_input)\n",
    "remain_percentage = 100 - percentage\n",
    "seconds_left = 5*30*remain_percentage*0.01\n",
    "minutes_left = seconds_left // 60\n",
    "seconds_left = seconds_left % 60\n",
    "print(\"術式使用時間還剩下：\", minutes_left, \"分\", seconds_left, \"秒\")"
   ]
  }
 ],
 "metadata": {
  "kernelspec": {
   "display_name": "Python 3",
   "language": "python",
   "name": "python3"
  },
  "language_info": {
   "codemirror_mode": {
    "name": "ipython",
    "version": 3
   },
   "file_extension": ".py",
   "mimetype": "text/x-python",
   "name": "python",
   "nbconvert_exporter": "python",
   "pygments_lexer": "ipython3",
   "version": "3.10.12"
  }
 },
 "nbformat": 4,
 "nbformat_minor": 2
}
