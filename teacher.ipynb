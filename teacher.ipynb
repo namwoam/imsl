{
 "cells": [
  {
   "cell_type": "markdown",
   "id": "e7256a2d",
   "metadata": {},
   "source": [
    "讓我們來試試看用print( )印出 Hello World!"
   ]
  },
  {
   "cell_type": "code",
   "execution_count": 1,
   "id": "f8a00a6c",
   "metadata": {},
   "outputs": [
    {
     "name": "stdout",
     "output_type": "stream",
     "text": [
      "Hello World!\n"
     ]
    }
   ],
   "source": [
    "print(\"Hello World!\")"
   ]
  },
  {
   "cell_type": "markdown",
   "id": "1c4dd230",
   "metadata": {},
   "source": [
    "試著印出：五條悟200%最大輸出"
   ]
  },
  {
   "cell_type": "code",
   "execution_count": 2,
   "id": "06b7200b",
   "metadata": {},
   "outputs": [
    {
     "name": "stdout",
     "output_type": "stream",
     "text": [
      "五條悟200%最大輸出\n"
     ]
    }
   ],
   "source": [
    "print(\"五條悟200%最大輸出\")"
   ]
  },
  {
   "cell_type": "code",
   "execution_count": 3,
   "id": "2e1c41ff",
   "metadata": {},
   "outputs": [
    {
     "name": "stdout",
     "output_type": "stream",
     "text": [
      "五條悟 我是最強\n"
     ]
    }
   ],
   "source": [
    "print(\"五條悟\",\"我是最強\")"
   ]
  },
  {
   "cell_type": "markdown",
   "id": "bf546173",
   "metadata": {},
   "source": [
    "試試看不加引號"
   ]
  },
  {
   "cell_type": "code",
   "execution_count": 4,
   "id": "637b0722",
   "metadata": {},
   "outputs": [
    {
     "ename": "SyntaxError",
     "evalue": "invalid syntax. Perhaps you forgot a comma? (2443755642.py, line 1)",
     "output_type": "error",
     "traceback": [
      "\u001b[0;36m  Cell \u001b[0;32mIn[4], line 1\u001b[0;36m\u001b[0m\n\u001b[0;31m    print(Hello World!)\u001b[0m\n\u001b[0m          ^\u001b[0m\n\u001b[0;31mSyntaxError\u001b[0m\u001b[0;31m:\u001b[0m invalid syntax. Perhaps you forgot a comma?\n"
     ]
    }
   ],
   "source": [
    "print(Hello World!)"
   ]
  },
  {
   "cell_type": "code",
   "execution_count": 5,
   "id": "c6a33221",
   "metadata": {},
   "outputs": [
    {
     "name": "stdout",
     "output_type": "stream",
     "text": [
      "Hello World!\n"
     ]
    }
   ],
   "source": [
    "print(\"Hello World!\")#這是我的第一個程式碼"
   ]
  },
  {
   "cell_type": "code",
   "execution_count": 6,
   "id": "37aebe76",
   "metadata": {},
   "outputs": [],
   "source": [
    "age = 15"
   ]
  },
  {
   "cell_type": "code",
   "execution_count": 7,
   "id": "ea458336",
   "metadata": {},
   "outputs": [
    {
     "name": "stdout",
     "output_type": "stream",
     "text": [
      "15\n"
     ]
    }
   ],
   "source": [
    "print(age)"
   ]
  },
  {
   "cell_type": "code",
   "execution_count": 8,
   "id": "ac2c4ee0",
   "metadata": {},
   "outputs": [
    {
     "name": "stdout",
     "output_type": "stream",
     "text": [
      "age\n"
     ]
    }
   ],
   "source": [
    "print(\"age\")#這個age因為加了引號，所以python就認為他是字串囉"
   ]
  },
  {
   "cell_type": "code",
   "execution_count": 9,
   "id": "bb4bddc4",
   "metadata": {},
   "outputs": [
    {
     "name": "stdout",
     "output_type": "stream",
     "text": [
      "我的生日是 2023 年 1 月 1 日\n"
     ]
    }
   ],
   "source": [
    "year = 2023\n",
    "month = 1\n",
    "day =  1\n",
    "print(\"我的生日是\", year, \"年\", month, \"月\", day, \"日\")"
   ]
  },
  {
   "cell_type": "code",
   "execution_count": null,
   "id": "a98c5d4b",
   "metadata": {},
   "outputs": [],
   "source": [
    "a = input()#讓我們輸入2試試"
   ]
  },
  {
   "cell_type": "code",
   "execution_count": null,
   "id": "efeb57bd",
   "metadata": {},
   "outputs": [],
   "source": [
    "print(a)#再將 a 輸出看看"
   ]
  },
  {
   "cell_type": "code",
   "execution_count": null,
   "id": "b3a477be",
   "metadata": {},
   "outputs": [
    {
     "name": "stdout",
     "output_type": "stream",
     "text": [
      "\n"
     ]
    }
   ],
   "source": [
    "year = input()\n",
    "month = input()\n",
    "day =  input()\n",
    "print(\"我的生日是\", year, \"年\", month, \"月\", day, \"日\")"
   ]
  },
  {
   "cell_type": "code",
   "execution_count": null,
   "id": "7c5723a7",
   "metadata": {},
   "outputs": [],
   "source": []
  }
 ],
 "metadata": {
  "kernelspec": {
   "display_name": "Python 3 (ipykernel)",
   "language": "python",
   "name": "python3"
  },
  "language_info": {
   "codemirror_mode": {
    "name": "ipython",
    "version": 3
   },
   "file_extension": ".py",
   "mimetype": "text/x-python",
   "name": "python",
   "nbconvert_exporter": "python",
   "pygments_lexer": "ipython3",
   "version": "3.11.5"
  }
 },
 "nbformat": 4,
 "nbformat_minor": 5
}
