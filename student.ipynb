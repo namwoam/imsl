{
 "cells": [
  {
   "cell_type": "markdown",
   "metadata": {},
   "source": [
    "# 練習時間 - 咒術點點名"
   ]
  },
  {
   "cell_type": "code",
   "execution_count": 1,
   "metadata": {},
   "outputs": [
    {
     "name": "stdout",
     "output_type": "stream",
     "text": [
      "虎杖悠仁 術式：比較壯的路人\n"
     ]
    }
   ],
   "source": [
    "print('虎杖悠仁 術式：比較壯的路人')"
   ]
  },
  {
   "cell_type": "markdown",
   "metadata": {},
   "source": [
    "# 派森也有不義遊戲\n"
   ]
  },
  {
   "cell_type": "code",
   "execution_count": 2,
   "metadata": {},
   "outputs": [
    {
     "name": "stdout",
     "output_type": "stream",
     "text": [
      "東堂拿到了： 虎杖\n"
     ]
    }
   ],
   "source": [
    "river_item = '遊雲'\n",
    "hand_item = '虎杖'\n",
    "print(\"東堂拿到了：\", hand_item)"
   ]
  },
  {
   "cell_type": "markdown",
   "metadata": {},
   "source": [
    "# 公佈咒術資訊！"
   ]
  },
  {
   "cell_type": "code",
   "execution_count": 3,
   "metadata": {},
   "outputs": [],
   "source": [
    "weird_1 = 3_00\n",
    "weird_2 = '300'\n",
    "weird_3 = int(weird_2)\n",
    "weird_4 = str(bool(300))\n",
    "weird_5 = 1e-5"
   ]
  },
  {
   "cell_type": "markdown",
   "metadata": {},
   "source": [
    "# 十劃咒法"
   ]
  },
  {
   "cell_type": "code",
   "execution_count": 4,
   "metadata": {},
   "outputs": [
    {
     "name": "stdout",
     "output_type": "stream",
     "text": [
      "七海要攻擊： 0 的地方\n"
     ]
    }
   ],
   "source": [
    "head_pos = 20\n",
    "body_length = 7\n",
    "target = 0\n",
    "print(\"七海要攻擊：\", target, \"的地方\")"
   ]
  },
  {
   "cell_type": "markdown",
   "metadata": {},
   "source": [
    "## 純愛戰士"
   ]
  },
  {
   "cell_type": "code",
   "execution_count": 5,
   "metadata": {},
   "outputs": [
    {
     "name": "stdout",
     "output_type": "stream",
     "text": [
      "術式使用時間還剩下： 0 分 0 秒\n"
     ]
    }
   ],
   "source": [
    "raw_input = input()\n",
    "percentage = int(raw_input)\n",
    "remain_percentage = 100 - percentage\n",
    "seconds_left = 0\n",
    "minutes_left = 0\n",
    "print(\"術式使用時間還剩下：\", minutes_left, \"分\", seconds_left, \"秒\")"
   ]
  },
  {
   "cell_type": "markdown",
   "metadata": {},
   "source": [
    "# 你要吃什麼飯糰"
   ]
  },
  {
   "cell_type": "code",
   "execution_count": 6,
   "metadata": {},
   "outputs": [
    {
     "name": "stdout",
     "output_type": "stream",
     "text": [
      "\n"
     ]
    }
   ],
   "source": [
    "a = 3\n",
    "b = 2\n",
    "yes_rice_ball = '鮭魚'\n",
    "no_rice_ball = '柴魚'\n",
    "output = ''\n",
    "print(output)"
   ]
  },
  {
   "cell_type": "markdown",
   "metadata": {},
   "source": [
    "# 你有比五條悟強嗎？！"
   ]
  },
  {
   "cell_type": "code",
   "execution_count": 7,
   "metadata": {},
   "outputs": [
    {
     "name": "stdout",
     "output_type": "stream",
     "text": [
      "你有比五條悟強嗎？ False\n"
     ]
    }
   ],
   "source": [
    "gojo_power = 100\n",
    "sukuna_power = 100\n",
    "your_power = 1000\n",
    "print('你有比五條悟強嗎？', False)"
   ]
  },
  {
   "cell_type": "markdown",
   "metadata": {},
   "source": [
    "# 咒術師能力檢定"
   ]
  },
  {
   "cell_type": "code",
   "execution_count": 8,
   "metadata": {},
   "outputs": [
    {
     "name": "stdout",
     "output_type": "stream",
     "text": [
      "你是特級咒術師！\n"
     ]
    },
    {
     "data": {
      "text/plain": [
       "\"\\nprint('你是一級咒術師！')\\nprint('你是二級咒術師！')\\nprint('你是三級咒術師！')\\nprint('你是四級咒術師！')\\n\""
      ]
     },
     "execution_count": 8,
     "metadata": {},
     "output_type": "execute_result"
    }
   ],
   "source": [
    "sorcerers_power = 750\n",
    "print('你是特級咒術師！')\n",
    "'''\n",
    "print('你是一級咒術師！')\n",
    "print('你是二級咒術師！')\n",
    "print('你是三級咒術師！')\n",
    "print('你是四級咒術師！')\n",
    "'''"
   ]
  }
 ],
 "metadata": {
  "kernelspec": {
   "display_name": "Python 3",
   "language": "python",
   "name": "python3"
  },
  "language_info": {
   "codemirror_mode": {
    "name": "ipython",
    "version": 3
   },
   "file_extension": ".py",
   "mimetype": "text/x-python",
   "name": "python",
   "nbconvert_exporter": "python",
   "pygments_lexer": "ipython3",
   "version": "3.10.12"
  }
 },
 "nbformat": 4,
 "nbformat_minor": 2
}
