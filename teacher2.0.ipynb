{
 "cells": [
  {
   "cell_type": "markdown",
   "metadata": {},
   "source": [
    "# 練習時間 - 咒術點點名"
   ]
  },
  {
   "cell_type": "code",
   "execution_count": 2,
   "metadata": {},
   "outputs": [
    {
     "name": "stdout",
     "output_type": "stream",
     "text": [
      "虎杖悠仁 術式：比較壯的路人\n",
      "伏黑惠 術式：十種影法術\n",
      "釘崎野薔薇 術式：芻靈咒法\n"
     ]
    }
   ],
   "source": [
    "print('虎杖悠仁 術式：比較壯的路人')\n",
    "print('伏黑惠 術式：十種影法術')\n",
    "print('釘崎野薔薇 術式：芻靈咒法')"
   ]
  },
  {
   "cell_type": "markdown",
   "metadata": {},
   "source": [
    "# 派森也有不義遊戲\n"
   ]
  },
  {
   "cell_type": "code",
   "execution_count": 4,
   "metadata": {},
   "outputs": [
    {
     "name": "stdout",
     "output_type": "stream",
     "text": [
      "東堂拿到了： 遊雲\n"
     ]
    }
   ],
   "source": [
    "river_item = '遊雲'\n",
    "hand_item = '虎杖'\n",
    "river_item, hand_item = hand_item, river_item\n",
    "print(\"東堂拿到了：\", hand_item)"
   ]
  },
  {
   "cell_type": "markdown",
   "metadata": {},
   "source": [
    "# 公佈咒術資訊！"
   ]
  },
  {
   "cell_type": "code",
   "execution_count": 12,
   "metadata": {},
   "outputs": [
    {
     "name": "stdout",
     "output_type": "stream",
     "text": [
      "<class 'int'> <class 'str'> <class 'int'> <class 'str'> <class 'float'>\n"
     ]
    }
   ],
   "source": [
    "weird_1 = 3_00\n",
    "weird_2 = '300'\n",
    "weird_3 = int(weird_2)\n",
    "weird_4 = str(bool(300))\n",
    "weird_5 = 1e-5\n",
    "\n",
    "print(type(weird_1), type(weird_2), type(\n",
    "    weird_3), type(weird_4), type(weird_5))"
   ]
  },
  {
   "cell_type": "markdown",
   "metadata": {},
   "source": [
    "# 十劃咒法"
   ]
  },
  {
   "cell_type": "code",
   "execution_count": 4,
   "metadata": {},
   "outputs": [
    {
     "name": "stdout",
     "output_type": "stream",
     "text": [
      "七海要攻擊： 22.1 的地方\n"
     ]
    }
   ],
   "source": [
    "head_pos = 20\n",
    "body_length = 7\n",
    "target = head_pos + body_length * 0.3\n",
    "print(\"七海要攻擊：\", target, \"的地方\")"
   ]
  },
  {
   "cell_type": "markdown",
   "metadata": {},
   "source": [
    "## 純愛戰士"
   ]
  },
  {
   "cell_type": "code",
   "execution_count": 9,
   "metadata": {},
   "outputs": [
    {
     "ename": "ValueError",
     "evalue": "invalid literal for int() with base 10: ''",
     "output_type": "error",
     "traceback": [
      "\u001b[0;31m---------------------------------------------------------------------------\u001b[0m",
      "\u001b[0;31mValueError\u001b[0m                                Traceback (most recent call last)",
      "\u001b[1;32m/home/namwoam/rep/imsl/teacher2.0.ipynb Cell 8\u001b[0m line \u001b[0;36m2\n\u001b[1;32m      <a href='vscode-notebook-cell:/home/namwoam/rep/imsl/teacher2.0.ipynb#W4sZmlsZQ%3D%3D?line=0'>1</a>\u001b[0m raw_input \u001b[39m=\u001b[39m \u001b[39minput\u001b[39m()\n\u001b[0;32m----> <a href='vscode-notebook-cell:/home/namwoam/rep/imsl/teacher2.0.ipynb#W4sZmlsZQ%3D%3D?line=1'>2</a>\u001b[0m percentage \u001b[39m=\u001b[39m \u001b[39mint\u001b[39;49m(raw_input)\n\u001b[1;32m      <a href='vscode-notebook-cell:/home/namwoam/rep/imsl/teacher2.0.ipynb#W4sZmlsZQ%3D%3D?line=2'>3</a>\u001b[0m remain_percentage \u001b[39m=\u001b[39m \u001b[39m100\u001b[39m \u001b[39m-\u001b[39m percentage\n\u001b[1;32m      <a href='vscode-notebook-cell:/home/namwoam/rep/imsl/teacher2.0.ipynb#W4sZmlsZQ%3D%3D?line=3'>4</a>\u001b[0m seconds_left \u001b[39m=\u001b[39m \u001b[39m5\u001b[39m\u001b[39m*\u001b[39m\u001b[39m30\u001b[39m\u001b[39m*\u001b[39mremain_percentage\u001b[39m*\u001b[39m\u001b[39m0.01\u001b[39m\n",
      "\u001b[0;31mValueError\u001b[0m: invalid literal for int() with base 10: ''"
     ]
    }
   ],
   "source": [
    "raw_input = input()\n",
    "percentage = int(raw_input)\n",
    "remain_percentage = 100 - percentage\n",
    "seconds_left = 5*30*remain_percentage*0.01\n",
    "minutes_left = seconds_left // 60\n",
    "seconds_left = seconds_left % 60\n",
    "print(\"術式使用時間還剩下：\", minutes_left, \"分\", seconds_left, \"秒\")"
   ]
  },
  {
   "cell_type": "markdown",
   "metadata": {},
   "source": [
    "# 你要吃什麼飯糰"
   ]
  },
  {
   "cell_type": "code",
   "execution_count": 1,
   "metadata": {},
   "outputs": [
    {
     "name": "stdout",
     "output_type": "stream",
     "text": [
      "鮭魚鮭魚鮭魚柴魚柴魚\n"
     ]
    }
   ],
   "source": [
    "a = 3\n",
    "b = 2\n",
    "yes_rice_ball = '鮭魚'\n",
    "no_rice_ball = '柴魚'\n",
    "output = yes_rice_ball*3 + no_rice_ball*b\n",
    "print(output)"
   ]
  },
  {
   "cell_type": "markdown",
   "metadata": {},
   "source": [
    "# 你有比五條悟強嗎？！"
   ]
  },
  {
   "cell_type": "code",
   "execution_count": 2,
   "metadata": {},
   "outputs": [
    {
     "name": "stdout",
     "output_type": "stream",
     "text": [
      "你有比五條悟強嗎？ True\n"
     ]
    }
   ],
   "source": [
    "gojo_power = 100\n",
    "sukuna_power = 100\n",
    "your_power = 1000\n",
    "print('你有比五條悟強嗎？', your_power > gojo_power)"
   ]
  },
  {
   "cell_type": "markdown",
   "metadata": {},
   "source": [
    "# 咒術師能力檢定"
   ]
  },
  {
   "cell_type": "code",
   "execution_count": 3,
   "metadata": {},
   "outputs": [
    {
     "name": "stdout",
     "output_type": "stream",
     "text": [
      "你是二級咒術師！\n"
     ]
    }
   ],
   "source": [
    "sorcerers_power = 750\n",
    "if sorcerers_power > 1000:\n",
    "    print('你是特級咒術師！')\n",
    "elif sorcerers_power > 800:\n",
    "    print('你是一級咒術師！')\n",
    "elif sorcerers_power > 600:\n",
    "    print('你是二級咒術師！')\n",
    "elif sorcerers_power > 400:\n",
    "    print('你是三級咒術師！')\n",
    "else:\n",
    "    print('你是四級咒術師！')"
   ]
  }
 ],
 "metadata": {
  "kernelspec": {
   "display_name": "Python 3",
   "language": "python",
   "name": "python3"
  },
  "language_info": {
   "codemirror_mode": {
    "name": "ipython",
    "version": 3
   },
   "file_extension": ".py",
   "mimetype": "text/x-python",
   "name": "python",
   "nbconvert_exporter": "python",
   "pygments_lexer": "ipython3",
   "version": "3.10.12"
  }
 },
 "nbformat": 4,
 "nbformat_minor": 2
}
